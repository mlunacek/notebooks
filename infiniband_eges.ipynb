{
 "metadata": {
  "name": ""
 },
 "nbformat": 3,
 "nbformat_minor": 0,
 "worksheets": [
  {
   "cells": [
    {
     "cell_type": "markdown",
     "metadata": {},
     "source": [
      "# The best and worst samples"
     ]
    },
    {
     "cell_type": "code",
     "collapsed": false,
     "input": [
      "!cat /proc/meminfo | grep MemFree"
     ],
     "language": "python",
     "metadata": {},
     "outputs": [
      {
       "output_type": "stream",
       "stream": "stdout",
       "text": [
        "MemFree:        94497984 kB\r\n"
       ]
      }
     ],
     "prompt_number": 1
    },
    {
     "cell_type": "markdown",
     "metadata": {},
     "source": [
      "This is about 80 gb."
     ]
    },
    {
     "cell_type": "code",
     "collapsed": false,
     "input": [
      "import pandas as pd"
     ],
     "language": "python",
     "metadata": {},
     "outputs": [],
     "prompt_number": 2
    },
    {
     "cell_type": "code",
     "collapsed": false,
     "input": [
      "df = pd.read_csv('data/all_links.csv')\n",
      "df['exists'] = 1\n",
      "tmp = df.pivot('id','device','exists')\n",
      "tmp.fillna(0, inplace=True)\n",
      "keep = tmp.sum(axis=1)"
     ],
     "language": "python",
     "metadata": {},
     "outputs": [],
     "prompt_number": 3
    },
    {
     "cell_type": "code",
     "collapsed": false,
     "input": [
      "pv = pd.concat([df.groupby('id').mean(), tmp], axis=1)"
     ],
     "language": "python",
     "metadata": {},
     "outputs": [],
     "prompt_number": 4
    },
    {
     "cell_type": "markdown",
     "metadata": {},
     "source": [
      "Get rid of the top of rack jobs"
     ]
    },
    {
     "cell_type": "code",
     "collapsed": false,
     "input": [
      "pv = pv.ix[keep > 2]"
     ],
     "language": "python",
     "metadata": {},
     "outputs": [],
     "prompt_number": 5
    },
    {
     "cell_type": "code",
     "collapsed": false,
     "input": [
      "threshold = 24\n",
      "fail_index = pv['result'] > threshold*1000\n",
      "pass_index = pv['result'] < threshold*1000\n",
      "\n",
      "sort_fail_index = pv.ix[fail_index, 'result'].order(ascending=False).index\n",
      "sort_pass_index = pv.ix[pass_index, 'result'].order().index"
     ],
     "language": "python",
     "metadata": {},
     "outputs": [],
     "prompt_number": 6
    },
    {
     "cell_type": "code",
     "collapsed": false,
     "input": [
      "number = 40000\n",
      "\n",
      "f_index = sort_fail_index[:number]\n",
      "p_index = sort_pass_index[:number]\n",
      "bins = range(0,100000, 1000)\n",
      "hist(pv.ix[f_index, 'result'], bins=bins)\n",
      "hist(pv.ix[p_index, 'result'], bins=bins)\n",
      "show()"
     ],
     "language": "python",
     "metadata": {},
     "outputs": [
      {
       "metadata": {},
       "output_type": "display_data",
       "png": "[encoded data removed]",
       "text": [
        "<matplotlib.figure.Figure at 0x6e17890>"
       ]
      }
     ],
     "prompt_number": 7
    },
    {
     "cell_type": "code",
     "collapsed": false,
     "input": [
      "index = f_index.append(p_index)\n",
      "edges = pv.ix[index]"
     ],
     "language": "python",
     "metadata": {},
     "outputs": [],
     "prompt_number": 11
    },
    {
     "cell_type": "markdown",
     "metadata": {},
     "source": [
      "Remove the empty columns"
     ]
    },
    {
     "cell_type": "code",
     "collapsed": false,
     "input": [
      "hist(edges['result'].values, bins=bins)\n",
      "show()"
     ],
     "language": "python",
     "metadata": {},
     "outputs": [
      {
       "metadata": {},
       "output_type": "display_data",
       "png": "[encoded data removed]",
       "text": [
        "<matplotlib.figure.Figure at 0x50d6a10>"
       ]
      }
     ],
     "prompt_number": 14
    },
    {
     "cell_type": "markdown",
     "metadata": {},
     "source": [
      "## Create `X` and `y` pair"
     ]
    },
    {
     "cell_type": "code",
     "collapsed": false,
     "input": [
      "edges['y'] = 0\n",
      "edges['y'][edges['result'] > threshold*1000] = 1"
     ],
     "language": "python",
     "metadata": {},
     "outputs": [],
     "prompt_number": 16
    },
    {
     "cell_type": "code",
     "collapsed": false,
     "input": [
      "y = edges.y.values"
     ],
     "language": "python",
     "metadata": {},
     "outputs": [],
     "prompt_number": 18
    },
    {
     "cell_type": "code",
     "collapsed": false,
     "input": [
      "X = edges.ix[:,3:].as_matrix()"
     ],
     "language": "python",
     "metadata": {},
     "outputs": [],
     "prompt_number": 22
    },
    {
     "cell_type": "markdown",
     "metadata": {},
     "source": [
      "Remove columns with all zeros"
     ]
    },
    {
     "cell_type": "code",
     "collapsed": false,
     "input": [
      "tmp = X.sum(axis=0) > 0"
     ],
     "language": "python",
     "metadata": {},
     "outputs": [],
     "prompt_number": 26
    },
    {
     "cell_type": "code",
     "collapsed": false,
     "input": [
      "X2 = X[:,tmp]"
     ],
     "language": "python",
     "metadata": {},
     "outputs": [],
     "prompt_number": 28
    },
    {
     "cell_type": "code",
     "collapsed": false,
     "input": [
      "labels = edges.columns.values[3:]\n",
      "labels = labels[tmp]\n",
      "print len(labels)"
     ],
     "language": "python",
     "metadata": {},
     "outputs": [
      {
       "output_type": "stream",
       "stream": "stdout",
       "text": [
        "5333\n"
       ]
      }
     ],
     "prompt_number": 31
    },
    {
     "cell_type": "code",
     "collapsed": false,
     "input": [
      "X2.shape"
     ],
     "language": "python",
     "metadata": {},
     "outputs": [
      {
       "metadata": {},
       "output_type": "pyout",
       "prompt_number": 32,
       "text": [
        "(80000, 5333)"
       ]
      }
     ],
     "prompt_number": 32
    },
    {
     "cell_type": "code",
     "collapsed": false,
     "input": [
      "y.shape"
     ],
     "language": "python",
     "metadata": {},
     "outputs": [
      {
       "metadata": {},
       "output_type": "pyout",
       "prompt_number": 33,
       "text": [
        "(80000,)"
       ]
      }
     ],
     "prompt_number": 33
    },
    {
     "cell_type": "code",
     "collapsed": false,
     "input": [
      "from scipy.sparse import csr_matrix\n",
      "X_s = csr_matrix(X2)"
     ],
     "language": "python",
     "metadata": {},
     "outputs": [],
     "prompt_number": 35
    },
    {
     "cell_type": "code",
     "collapsed": false,
     "input": [
      "import os\n",
      "import tables as tb\n",
      "\n",
      "def write_to_file(filename, X, y, l):\n",
      "\n",
      "    _filename = os.path.join('data',filename)\n",
      "    with tb.openFile(_filename, mode = \"w\") as h5:\n",
      "        h5.createArray(h5.root,'y',y)\n",
      "        h5.createArray(h5.root,'X_data', X.data.size)\n",
      "        h5.createArray(h5.root,'X_indices',X.indices)\n",
      "        h5.createArray(h5.root,'X_indptr',X.indptr)\n",
      "        h5.createArray(h5.root,'n1',X.shape[0])\n",
      "        h5.createArray(h5.root,'n2',X.shape[1])\n",
      "\n",
      "    _filename = _filename + '.labels'\n",
      "    with open(_filename, 'w') as outfile:\n",
      "        outfile.write(','.join(l))"
     ],
     "language": "python",
     "metadata": {},
     "outputs": [],
     "prompt_number": 38
    },
    {
     "cell_type": "code",
     "collapsed": false,
     "input": [
      "filename = '/lustre/janus_scratch/molu8455/infiniband/data/edge_links.hdf'\n",
      "write_to_file(filename, X_s, y, labels)"
     ],
     "language": "python",
     "metadata": {},
     "outputs": [],
     "prompt_number": 40
    },
    {
     "cell_type": "code",
     "collapsed": false,
     "input": [],
     "language": "python",
     "metadata": {},
     "outputs": []
    }
   ],
   "metadata": {}
  }
 ]
}