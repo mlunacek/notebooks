{
 "metadata": {
  "name": "",
  "signature": "sha256:547d347d64f45c185355ff18a72510fe04bf5aa4f967d36b39374292ab54a4f4"
 },
 "nbformat": 3,
 "nbformat_minor": 0,
 "worksheets": [
  {
   "cells": [
    {
     "cell_type": "heading",
     "level": 1,
     "metadata": {},
     "source": [
      "Using `saga` with `IPython parallel`"
     ]
    },
    {
     "cell_type": "markdown",
     "metadata": {},
     "source": [
      "This example shows one way to start a separate job on an HPC cluster that runs `Ipython.parallel`.\n",
      "\n",
      "- Use `saga` to create, submit, and run a job that starts `ipcluster`.\n",
      "- Create a `Client` that connects to the hub of the new job.\n",
      "    - The `Client` needs to know the location of the hub so we pass the `hostname` running the hub\n",
      "- Create a load balanced view `c.load_balanced_view()` of the cluster.\n",
      "- Map some work.\n",
      "- Get the results.\n",
      "- Use `saga` to stop the remote cluster and `cancel` the job."
     ]
    },
    {
     "cell_type": "code",
     "collapsed": false,
     "input": [
      "import saga\n",
      "import time\n",
      "import re\n",
      "import socket\n",
      "import numpy as np\n",
      "import IPython.parallel as parallel"
     ],
     "language": "python",
     "metadata": {},
     "outputs": []
    },
    {
     "cell_type": "code",
     "collapsed": false,
     "input": [
      "print socket.gethostname()"
     ],
     "language": "python",
     "metadata": {},
     "outputs": [
      {
       "output_type": "stream",
       "stream": "stdout",
       "text": [
        "node1673\n"
       ]
      }
     ],
     "prompt_number": 12
    },
    {
     "cell_type": "code",
     "collapsed": false,
     "input": [
      "def work(x):\n",
      "    import time, os, socket\n",
      "    start_time = time.time()\n",
      "    time.sleep(x)\n",
      "    end_time = time.time()\n",
      "    return {'pid': os.getpid(),\n",
      "            'host': socket.gethostname(),\n",
      "            'start_time': start_time,\n",
      "            'total_time': end_time - start_time}"
     ],
     "language": "python",
     "metadata": {},
     "outputs": [],
     "prompt_number": 45
    },
    {
     "cell_type": "code",
     "collapsed": false,
     "input": [
      "np.random.seed(1045)\n",
      "job_times = np.random.uniform(1, 2, 16)"
     ],
     "language": "python",
     "metadata": {},
     "outputs": [],
     "prompt_number": 46
    },
    {
     "cell_type": "heading",
     "level": 2,
     "metadata": {},
     "source": [
      "Serial"
     ]
    },
    {
     "cell_type": "code",
     "collapsed": false,
     "input": [
      "tic = time.time()\n",
      "results = map(work, job_times)\n",
      "print 'serial time: ', time.time() - tic"
     ],
     "language": "python",
     "metadata": {},
     "outputs": [
      {
       "output_type": "stream",
       "stream": "stdout",
       "text": [
        "serial time:  23.5445468426\n"
       ]
      }
     ],
     "prompt_number": 47
    },
    {
     "cell_type": "code",
     "collapsed": false,
     "input": [
      "import pandas as pd\n",
      "data = pd.DataFrame(results)\n",
      "data['relative_start_time'] = data.start_time - data.start_time.min()\n",
      "data = data.drop(['start_time'], axis=1)\n",
      "print data"
     ],
     "language": "python",
     "metadata": {},
     "outputs": [
      {
       "output_type": "stream",
       "stream": "stdout",
       "text": [
        "        host    pid  total_time  relative_start_time\n",
        "0   node1673  20199    1.756382             0.000000\n",
        "1   node1673  20199    1.536644             1.756399\n",
        "2   node1673  20199    1.473672             3.293052\n",
        "3   node1673  20199    1.761601             4.766734\n",
        "4   node1673  20199    1.911619             6.528343\n",
        "5   node1673  20199    1.320747             8.439972\n",
        "6   node1673  20199    1.005343             9.760733\n",
        "7   node1673  20199    1.641506            10.766086\n",
        "8   node1673  20199    1.415429            12.407604\n",
        "9   node1673  20199    1.331249            13.823042\n",
        "10  node1673  20199    1.018363            15.154301\n",
        "11  node1673  20199    1.856668            16.172678\n",
        "12  node1673  20199    1.296509            18.029356\n",
        "13  node1673  20199    1.153987            19.325879\n",
        "14  node1673  20199    1.646297            20.479897\n",
        "15  node1673  20199    1.418068            22.126215\n"
       ]
      }
     ],
     "prompt_number": 48
    },
    {
     "cell_type": "heading",
     "level": 2,
     "metadata": {},
     "source": [
      "Parallel"
     ]
    },
    {
     "cell_type": "code",
     "collapsed": false,
     "input": [
      "%load saga_pbs_job.py"
     ],
     "language": "python",
     "metadata": {},
     "outputs": [],
     "prompt_number": 53
    },
    {
     "cell_type": "code",
     "collapsed": false,
     "input": [
      "import saga\n",
      "import socket\n",
      "import time\n",
      "import re\n",
      "\n",
      "class PBSJob:\n",
      "    \n",
      "    def __init__(self, executable, args):\n",
      "        self.saga_service()\n",
      "        self.saga_job()\n",
      "        self.job.executable = executable\n",
      "        self.job.arguments = args\n",
      "    \n",
      "    def start(self):\n",
      "        self.touchjob = self.service.create_job(self.job)\n",
      "        self.touchjob.run()\n",
      "        self.wait()\n",
      "    \n",
      "    def wait(self):\n",
      "        while self.touchjob.state != saga.job.RUNNING:\n",
      "            time.sleep(1)\n",
      "\n",
      "        nodes = re.findall(r'(node[0-9]{4})/[0-9]+', ''.join(self.touchjob.execution_hosts))\n",
      "        nodename = list(set(nodes))[0]\n",
      "        self.sshserver_name = nodename\n",
      "\n",
      "    def sshserver(self):\n",
      "        return self.sshserver_name\n",
      "\n",
      "    def stop(self):\n",
      "        self.touchjob.cancel()\n",
      "        self.service.close()    \n",
      "\n",
      "    def state(self):\n",
      "        print \"Job State   : %s\" % (self.touchjob.state)\n",
      "        print \"Exitcode    : %s\" % (self.touchjob.exit_code)\n",
      "        print \"Create time : %s\" % (self.touchjob.created)\n",
      "        print \"Start time  : %s\" % (self.touchjob.started)\n",
      "        print \"End time    : %s\" % (self.touchjob.finished)\n",
      "    \n",
      "    def saga_job(self):\n",
      "        job = saga.job.Description()\n",
      "        job.wall_time_limit   = 60 # minutes\n",
      "        job.total_cpu_count   = 12 \n",
      "        job.queue             = \"janus-admin\"\n",
      "        job.working_directory = \"$HOME\"\n",
      "        job.output            = \"examplejob.out\"\n",
      "        job.error             = \"examplejob.err\"\n",
      "        job.executable        = 'sleep'\n",
      "        job.arguments         = ['60']\n",
      "        self.job = job\n",
      "    \n",
      "    def saga_service(self):\n",
      "        self.service = saga.job.Service(\"pbs+ssh://{0}\".format(socket.gethostname()))\n"
     ],
     "language": "python",
     "metadata": {},
     "outputs": [],
     "prompt_number": 54
    },
    {
     "cell_type": "markdown",
     "metadata": {},
     "source": [
      "Start a job that runs ipcluster."
     ]
    },
    {
     "cell_type": "code",
     "collapsed": false,
     "input": [
      "pbsjob = PBSJob('/curc/tools/x_86_64/rh6/anaconda/1.9.1/bin/ipcluster', ['start','--n=8'])\n",
      "pbsjob.start()"
     ],
     "language": "python",
     "metadata": {},
     "outputs": [],
     "prompt_number": 71
    },
    {
     "cell_type": "code",
     "collapsed": false,
     "input": [
      "print 'cluster running on', pbsjob.sshserver()\n",
      "pbsjob.state()"
     ],
     "language": "python",
     "metadata": {},
     "outputs": [
      {
       "output_type": "stream",
       "stream": "stdout",
       "text": [
        "cluster running on node1675\n",
        "Job State   : Running\n",
        "Exitcode    : None\n",
        "Create time : Sat Mar 22 08:25:55 2014\n",
        "Start time  : Sat Mar 22 08:26:18 2014\n",
        "End time    : None\n"
       ]
      }
     ],
     "prompt_number": 72
    },
    {
     "cell_type": "markdown",
     "metadata": {},
     "source": [
      "Connect to the cluster."
     ]
    },
    {
     "cell_type": "code",
     "collapsed": false,
     "input": [
      "c = parallel.Client(sshserver=pbsjob.sshserver())"
     ],
     "language": "python",
     "metadata": {},
     "outputs": [],
     "prompt_number": 73
    },
    {
     "cell_type": "markdown",
     "metadata": {},
     "source": [
      "Creat a load balanced view"
     ]
    },
    {
     "cell_type": "code",
     "collapsed": false,
     "input": [
      "print len(c)\n",
      "lview = c.load_balanced_view()"
     ],
     "language": "python",
     "metadata": {},
     "outputs": [
      {
       "output_type": "stream",
       "stream": "stdout",
       "text": [
        "8\n"
       ]
      }
     ],
     "prompt_number": 74
    },
    {
     "cell_type": "code",
     "collapsed": false,
     "input": [
      "tic = time.time()\n",
      "results = lview.map(work, job_times)\n",
      "results.wait()\n",
      "print 'parallel time: ', time.time() - tic"
     ],
     "language": "python",
     "metadata": {},
     "outputs": [
      {
       "output_type": "stream",
       "stream": "stdout",
       "text": [
        "parallel time:  3.44458007812\n"
       ]
      }
     ],
     "prompt_number": 75
    },
    {
     "cell_type": "code",
     "collapsed": false,
     "input": [
      "import pandas as pd\n",
      "data = pd.DataFrame(results.get()) #<---- notice the get() for asynch result\n",
      "data['relative_start_time'] = data.start_time - data.start_time.min()\n",
      "data = data.drop(['start_time'], axis=1)\n",
      "print data"
     ],
     "language": "python",
     "metadata": {},
     "outputs": [
      {
       "output_type": "stream",
       "stream": "stdout",
       "text": [
        "        host    pid  total_time  relative_start_time\n",
        "0   node1675  12238    1.756330             0.000036\n",
        "1   node1675  12241    1.536650             0.000011\n",
        "2   node1675  12235    1.473660             0.000001\n",
        "3   node1675  12258    1.761592             0.000012\n",
        "4   node1675  12249    1.910707             0.000000\n",
        "5   node1675  12245    1.320711             0.000012\n",
        "6   node1675  12233    1.005345             0.000002\n",
        "7   node1675  12234    1.641515             0.000011\n",
        "8   node1675  12233    1.415365             1.008127\n",
        "9   node1675  12245    1.331225             1.323927\n",
        "10  node1675  12235    1.018324             1.476450\n",
        "11  node1675  12241    1.856578             1.539662\n",
        "12  node1675  12234    1.296518             1.644451\n",
        "13  node1675  12238    1.153981             1.759302\n",
        "14  node1675  12258    1.646190             1.764687\n",
        "15  node1675  12249    1.418039             1.913380\n"
       ]
      }
     ],
     "prompt_number": 76
    },
    {
     "cell_type": "markdown",
     "metadata": {},
     "source": [
      "Stop the remote job."
     ]
    },
    {
     "cell_type": "code",
     "collapsed": false,
     "input": [
      "pbsjob.stop()\n",
      "pbsjob.state()"
     ],
     "language": "python",
     "metadata": {},
     "outputs": [
      {
       "output_type": "stream",
       "stream": "stdout",
       "text": [
        "Job State   : Canceled\n",
        "Exitcode    : None\n",
        "Create time : Sat Mar 22 08:25:55 2014\n",
        "Start time  : Sat Mar 22 08:26:18 2014\n",
        "End time    : None\n"
       ]
      }
     ],
     "prompt_number": 77
    },
    {
     "cell_type": "markdown",
     "metadata": {},
     "source": [
      "Now we are back to just using a single node"
     ]
    },
    {
     "cell_type": "code",
     "collapsed": false,
     "input": [],
     "language": "python",
     "metadata": {},
     "outputs": []
    }
   ],
   "metadata": {}
  }
 ]
}